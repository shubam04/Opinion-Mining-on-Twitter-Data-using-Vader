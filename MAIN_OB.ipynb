{
  "nbformat": 4,
  "nbformat_minor": 0,
  "metadata": {
    "colab": {
      "provenance": []
    },
    "kernelspec": {
      "name": "python3",
      "display_name": "Python 3"
    },
    "language_info": {
      "name": "python"
    }
  },
  "cells": [
    {
      "cell_type": "code",
      "execution_count": 293,
      "metadata": {
        "colab": {
          "base_uri": "https://localhost:8080/"
        },
        "id": "mGtNrgi0fNOj",
        "outputId": "b19dfdde-665a-405b-c45f-362936bb55eb"
      },
      "outputs": [
        {
          "output_type": "stream",
          "name": "stderr",
          "text": [
            "[nltk_data] Downloading package vader_lexicon to /root/nltk_data...\n",
            "[nltk_data]   Package vader_lexicon is already up-to-date!\n"
          ]
        },
        {
          "output_type": "execute_result",
          "data": {
            "text/plain": [
              "True"
            ]
          },
          "metadata": {},
          "execution_count": 293
        }
      ],
      "source": [
        "import tweepy\n",
        "import sys,csv,re\n",
        "import pandas as pd\n",
        "import matplotlib.pyplot as plt\n",
        "from nltk.sentiment.vader import SentimentIntensityAnalyzer\n",
        "import nltk\n",
        "nltk.download('vader_lexicon')"
      ]
    },
    {
      "cell_type": "code",
      "source": [
        "#authenticating\n",
        "api_key = \"EhO3iJ6xUlCxLaVFsKZTbPy0H\"\n",
        "api_secret_key = \"MGNc2vzQtYYLJsLyZFeROJR36hiTc31GlAukwD6sR6XwXO12ZM\"\n",
        "access_token = \"1102083971842682881-bkZs6TodQ31GAKOKaVNREEaBVJURE8\"\n",
        "access_secret_token = \"Q8iNkIInrFGa1JGzgFHoPKUegq5O3UST9WN8mbfBITSN6\"\n",
        "\n",
        "auth = tweepy.OAuthHandler(api_key, api_secret_key)\n",
        "auth.set_access_token(access_token, access_secret_token)\n",
        "api = tweepy.API(auth)"
      ],
      "metadata": {
        "id": "BR7859UsuyV4"
      },
      "execution_count": 294,
      "outputs": []
    },
    {
      "cell_type": "code",
      "source": [
        "import re\n",
        "!pip install emoji\n",
        "import emoji\n",
        "from typing import List\n",
        "import nltk\n",
        "from nltk.corpus import stopwords\n",
        "\n",
        "nltk.download('stopwords')\n",
        "stop_words = set(stopwords.words('english'))\n",
        "\n",
        "\n",
        "def clean_tweet_text(tweet: str) -> str:\n",
        "\n",
        "    # Remove URLs\n",
        "    tweet = re.sub(\"http\\S+\", \"\", tweet)\n",
        "    \n",
        "    # Remove mentions\n",
        "    tweet = re.sub(\"@\\S+\", \"\", tweet)\n",
        "    \n",
        "    # Convert emojis to text\n",
        "    tweet = emoji.demojize(tweet, delimiters=(\" \", \" \"))\n",
        "    tweet = tweet.replace(\"_\", \" \")\n",
        "    \n",
        "    # Convert hashtags to words\n",
        "    tweet = re.sub(\"#(\\S+)\", r\"\\1\", tweet)\n",
        "\n",
        "    # Remove RT (retweet) tags\n",
        "    tweet = re.sub(\"^RT\\s\", \"\", tweet)\n",
        "  \n",
        "    # Remove any remaining emojis or emoticons\n",
        "    tweet = re.sub(\":[^:]*:\", \"\", tweet)\n",
        "    \n",
        "    # Remove any non-ASCII characters\n",
        "    tweet = tweet.encode(\"ascii\", \"ignore\").decode()\n",
        "    \n",
        "    #remove stopwords\n",
        "    tweet_words = tweet.split()\n",
        "    tweet_words = [word for word in tweet_words if word not in stop_words]\n",
        "    tweet = ' '.join(tweet_words)\n",
        "    \n",
        "    # Remove extra whitespace\n",
        "    tweet = re.sub(\"\\s+\", \" \", tweet).strip()\n",
        "        \n",
        "    # convert text to lowercase \n",
        "    tweet = str(tweet).lower()\n",
        "    \n",
        "    return tweet"
      ],
      "metadata": {
        "colab": {
          "base_uri": "https://localhost:8080/"
        },
        "id": "NNd82W-l9kee",
        "outputId": "5946dd7f-d03f-4720-ea5b-4a37f4e729d1"
      },
      "execution_count": 295,
      "outputs": [
        {
          "output_type": "stream",
          "name": "stdout",
          "text": [
            "Looking in indexes: https://pypi.org/simple, https://us-python.pkg.dev/colab-wheels/public/simple/\n",
            "Requirement already satisfied: emoji in /usr/local/lib/python3.9/dist-packages (2.2.0)\n"
          ]
        },
        {
          "output_type": "stream",
          "name": "stderr",
          "text": [
            "[nltk_data] Downloading package stopwords to /root/nltk_data...\n",
            "[nltk_data]   Package stopwords is already up-to-date!\n"
          ]
        }
      ]
    },
    {
      "cell_type": "code",
      "source": [
        "# topic = input(\"Enter the topic you want to analyze: \")\n",
        "# count=int(input(\"Enter how many tweets to search: \"))\n",
        "\n",
        "topic = \"india\"\n",
        "count = 10000\n",
        "tweets = api.search_tweets(topic,count=count)\n",
        "\n",
        "cleaned_tweets = []\n",
        "for tweet in tweets:\n",
        "    cleaned_tweet = clean_tweet_text(tweet.text)\n",
        "    cleaned_tweets.append(cleaned_tweet)\n",
        "\n",
        "data = pd.DataFrame(data=cleaned_tweets, columns=['Tweets'])\n",
        "print(tweets[0].created_at)"
      ],
      "metadata": {
        "colab": {
          "base_uri": "https://localhost:8080/"
        },
        "id": "Q0QRG0D_uzP5",
        "outputId": "2ced6176-1dff-4058-b1ab-7ae3a8f0cc24"
      },
      "execution_count": 296,
      "outputs": [
        {
          "output_type": "stream",
          "name": "stdout",
          "text": [
            "2023-03-26 18:54:27+00:00\n"
          ]
        }
      ]
    },
    {
      "cell_type": "code",
      "source": [
        "sentiment_id = SentimentIntensityAnalyzer()\n",
        "lists = []\n",
        "\n",
        "for index, row in data.iterrows():\n",
        "  sentiment_score = sentiment_id.polarity_scores(row[\"Tweets\"])\n",
        "  lists.append(sentiment_score)\n",
        "  \n",
        "se = pd.Series(lists)\n",
        "data['polarity'] = se.values\n",
        "display(data.head(10))"
      ],
      "metadata": {
        "colab": {
          "base_uri": "https://localhost:8080/",
          "height": 363
        },
        "id": "n1Yqb3x4u149",
        "outputId": "ce541f17-270a-4da1-9018-9eaf2a7eb23b"
      },
      "execution_count": 297,
      "outputs": [
        {
          "output_type": "display_data",
          "data": {
            "text/plain": [
              "                                              Tweets  \\\n",
              "0                                               23 ,   \n",
              "1  these 2 economic offenders gujarat currently f...   \n",
              "2  india cuba valoran trabajo conjunto en tecnolo...   \n",
              "3  hmmm... you may want take look history jesuits...   \n",
              "4  please favour watch all breathes hotstar. shou...   \n",
              "5  believe - these khalistanis marched twitters h...   \n",
              "6  currency value us dollar, past year. russia +8...   \n",
              "7  web3madeinindia globe showing europe-africa sp...   \n",
              "8  the crane living free, around farms savior. no...   \n",
              "9  bilkis bano's rapist shares stage with gujarat...   \n",
              "\n",
              "                                            polarity  \n",
              "0  {'neg': 0.0, 'neu': 1.0, 'pos': 0.0, 'compound...  \n",
              "1  {'neg': 0.17, 'neu': 0.68, 'pos': 0.15, 'compo...  \n",
              "2  {'neg': 0.0, 'neu': 1.0, 'pos': 0.0, 'compound...  \n",
              "3  {'neg': 0.0, 'neu': 0.874, 'pos': 0.126, 'comp...  \n",
              "4  {'neg': 0.0, 'neu': 0.488, 'pos': 0.512, 'comp...  \n",
              "5  {'neg': 0.167, 'neu': 0.833, 'pos': 0.0, 'comp...  \n",
              "6  {'neg': 0.0, 'neu': 0.821, 'pos': 0.179, 'comp...  \n",
              "7  {'neg': 0.0, 'neu': 0.867, 'pos': 0.133, 'comp...  \n",
              "8  {'neg': 0.0, 'neu': 0.798, 'pos': 0.202, 'comp...  \n",
              "9  {'neg': 0.325, 'neu': 0.53, 'pos': 0.146, 'com...  "
            ],
            "text/html": [
              "\n",
              "  <div id=\"df-d69b5e18-c2cc-4ec9-a134-6fc7fab9617e\">\n",
              "    <div class=\"colab-df-container\">\n",
              "      <div>\n",
              "<style scoped>\n",
              "    .dataframe tbody tr th:only-of-type {\n",
              "        vertical-align: middle;\n",
              "    }\n",
              "\n",
              "    .dataframe tbody tr th {\n",
              "        vertical-align: top;\n",
              "    }\n",
              "\n",
              "    .dataframe thead th {\n",
              "        text-align: right;\n",
              "    }\n",
              "</style>\n",
              "<table border=\"1\" class=\"dataframe\">\n",
              "  <thead>\n",
              "    <tr style=\"text-align: right;\">\n",
              "      <th></th>\n",
              "      <th>Tweets</th>\n",
              "      <th>polarity</th>\n",
              "    </tr>\n",
              "  </thead>\n",
              "  <tbody>\n",
              "    <tr>\n",
              "      <th>0</th>\n",
              "      <td>23 ,</td>\n",
              "      <td>{'neg': 0.0, 'neu': 1.0, 'pos': 0.0, 'compound...</td>\n",
              "    </tr>\n",
              "    <tr>\n",
              "      <th>1</th>\n",
              "      <td>these 2 economic offenders gujarat currently f...</td>\n",
              "      <td>{'neg': 0.17, 'neu': 0.68, 'pos': 0.15, 'compo...</td>\n",
              "    </tr>\n",
              "    <tr>\n",
              "      <th>2</th>\n",
              "      <td>india cuba valoran trabajo conjunto en tecnolo...</td>\n",
              "      <td>{'neg': 0.0, 'neu': 1.0, 'pos': 0.0, 'compound...</td>\n",
              "    </tr>\n",
              "    <tr>\n",
              "      <th>3</th>\n",
              "      <td>hmmm... you may want take look history jesuits...</td>\n",
              "      <td>{'neg': 0.0, 'neu': 0.874, 'pos': 0.126, 'comp...</td>\n",
              "    </tr>\n",
              "    <tr>\n",
              "      <th>4</th>\n",
              "      <td>please favour watch all breathes hotstar. shou...</td>\n",
              "      <td>{'neg': 0.0, 'neu': 0.488, 'pos': 0.512, 'comp...</td>\n",
              "    </tr>\n",
              "    <tr>\n",
              "      <th>5</th>\n",
              "      <td>believe - these khalistanis marched twitters h...</td>\n",
              "      <td>{'neg': 0.167, 'neu': 0.833, 'pos': 0.0, 'comp...</td>\n",
              "    </tr>\n",
              "    <tr>\n",
              "      <th>6</th>\n",
              "      <td>currency value us dollar, past year. russia +8...</td>\n",
              "      <td>{'neg': 0.0, 'neu': 0.821, 'pos': 0.179, 'comp...</td>\n",
              "    </tr>\n",
              "    <tr>\n",
              "      <th>7</th>\n",
              "      <td>web3madeinindia globe showing europe-africa sp...</td>\n",
              "      <td>{'neg': 0.0, 'neu': 0.867, 'pos': 0.133, 'comp...</td>\n",
              "    </tr>\n",
              "    <tr>\n",
              "      <th>8</th>\n",
              "      <td>the crane living free, around farms savior. no...</td>\n",
              "      <td>{'neg': 0.0, 'neu': 0.798, 'pos': 0.202, 'comp...</td>\n",
              "    </tr>\n",
              "    <tr>\n",
              "      <th>9</th>\n",
              "      <td>bilkis bano's rapist shares stage with gujarat...</td>\n",
              "      <td>{'neg': 0.325, 'neu': 0.53, 'pos': 0.146, 'com...</td>\n",
              "    </tr>\n",
              "  </tbody>\n",
              "</table>\n",
              "</div>\n",
              "      <button class=\"colab-df-convert\" onclick=\"convertToInteractive('df-d69b5e18-c2cc-4ec9-a134-6fc7fab9617e')\"\n",
              "              title=\"Convert this dataframe to an interactive table.\"\n",
              "              style=\"display:none;\">\n",
              "        \n",
              "  <svg xmlns=\"http://www.w3.org/2000/svg\" height=\"24px\"viewBox=\"0 0 24 24\"\n",
              "       width=\"24px\">\n",
              "    <path d=\"M0 0h24v24H0V0z\" fill=\"none\"/>\n",
              "    <path d=\"M18.56 5.44l.94 2.06.94-2.06 2.06-.94-2.06-.94-.94-2.06-.94 2.06-2.06.94zm-11 1L8.5 8.5l.94-2.06 2.06-.94-2.06-.94L8.5 2.5l-.94 2.06-2.06.94zm10 10l.94 2.06.94-2.06 2.06-.94-2.06-.94-.94-2.06-.94 2.06-2.06.94z\"/><path d=\"M17.41 7.96l-1.37-1.37c-.4-.4-.92-.59-1.43-.59-.52 0-1.04.2-1.43.59L10.3 9.45l-7.72 7.72c-.78.78-.78 2.05 0 2.83L4 21.41c.39.39.9.59 1.41.59.51 0 1.02-.2 1.41-.59l7.78-7.78 2.81-2.81c.8-.78.8-2.07 0-2.86zM5.41 20L4 18.59l7.72-7.72 1.47 1.35L5.41 20z\"/>\n",
              "  </svg>\n",
              "      </button>\n",
              "      \n",
              "  <style>\n",
              "    .colab-df-container {\n",
              "      display:flex;\n",
              "      flex-wrap:wrap;\n",
              "      gap: 12px;\n",
              "    }\n",
              "\n",
              "    .colab-df-convert {\n",
              "      background-color: #E8F0FE;\n",
              "      border: none;\n",
              "      border-radius: 50%;\n",
              "      cursor: pointer;\n",
              "      display: none;\n",
              "      fill: #1967D2;\n",
              "      height: 32px;\n",
              "      padding: 0 0 0 0;\n",
              "      width: 32px;\n",
              "    }\n",
              "\n",
              "    .colab-df-convert:hover {\n",
              "      background-color: #E2EBFA;\n",
              "      box-shadow: 0px 1px 2px rgba(60, 64, 67, 0.3), 0px 1px 3px 1px rgba(60, 64, 67, 0.15);\n",
              "      fill: #174EA6;\n",
              "    }\n",
              "\n",
              "    [theme=dark] .colab-df-convert {\n",
              "      background-color: #3B4455;\n",
              "      fill: #D2E3FC;\n",
              "    }\n",
              "\n",
              "    [theme=dark] .colab-df-convert:hover {\n",
              "      background-color: #434B5C;\n",
              "      box-shadow: 0px 1px 3px 1px rgba(0, 0, 0, 0.15);\n",
              "      filter: drop-shadow(0px 1px 2px rgba(0, 0, 0, 0.3));\n",
              "      fill: #FFFFFF;\n",
              "    }\n",
              "  </style>\n",
              "\n",
              "      <script>\n",
              "        const buttonEl =\n",
              "          document.querySelector('#df-d69b5e18-c2cc-4ec9-a134-6fc7fab9617e button.colab-df-convert');\n",
              "        buttonEl.style.display =\n",
              "          google.colab.kernel.accessAllowed ? 'block' : 'none';\n",
              "\n",
              "        async function convertToInteractive(key) {\n",
              "          const element = document.querySelector('#df-d69b5e18-c2cc-4ec9-a134-6fc7fab9617e');\n",
              "          const dataTable =\n",
              "            await google.colab.kernel.invokeFunction('convertToInteractive',\n",
              "                                                     [key], {});\n",
              "          if (!dataTable) return;\n",
              "\n",
              "          const docLinkHtml = 'Like what you see? Visit the ' +\n",
              "            '<a target=\"_blank\" href=https://colab.research.google.com/notebooks/data_table.ipynb>data table notebook</a>'\n",
              "            + ' to learn more about interactive tables.';\n",
              "          element.innerHTML = '';\n",
              "          dataTable['output_type'] = 'display_data';\n",
              "          await google.colab.output.renderOutput(dataTable, element);\n",
              "          const docLink = document.createElement('div');\n",
              "          docLink.innerHTML = docLinkHtml;\n",
              "          element.appendChild(docLink);\n",
              "        }\n",
              "      </script>\n",
              "    </div>\n",
              "  </div>\n",
              "  "
            ]
          },
          "metadata": {}
        }
      ]
    },
    {
      "cell_type": "code",
      "source": [
        "\n",
        "def percentage(part, whole): \n",
        "  temp = 100 * float(part) / float(whole)\n",
        "  return format(temp,'.2f')\n",
        "\n",
        "polarity = 0\n",
        "positive = 0\n",
        "wpositive = 0\n",
        "spositive = 0\n",
        "negative = 0\n",
        "wnegative = 0\n",
        "snegative = 0\n",
        "neutral = 0\n",
        "total_polarity=0\n",
        "\n",
        "for results in data['polarity']:\n",
        "  polarity = results['compound']\n",
        "  total_polarity += results['compound']\n",
        "  if (polarity == 0):  # adding reaction of how people are reacting to find average later\n",
        "    neutral += 1\n",
        "  elif(polarity > 0 and polarity <= 0.3):\n",
        "    wpositive += 1\n",
        "  elif (polarity > 0.3 and polarity <= 0.6):\n",
        "    positive += 1\n",
        "  elif (polarity > 0.6 and polarity <= 1):\n",
        "    spositive += 1\n",
        "  elif (polarity > -0.3 and polarity <= 0):\n",
        "    wnegative += 1\n",
        "  elif (polarity > -0.6 and polarity <= -0.3):\n",
        "    negative += 1\n",
        "  elif (polarity > -1 and polarity <= -0.6):\n",
        "    snegative += 1\n"
      ],
      "metadata": {
        "id": "8nZINrbHu21q"
      },
      "execution_count": 298,
      "outputs": []
    },
    {
      "cell_type": "code",
      "source": [
        "max_value = max(positive, wpositive, spositive, negative, wnegative, snegative, neutral)\n",
        "\n",
        "if max_value == positive:\n",
        "  thought = \"positive\"\n",
        "  value = positive\n",
        "elif max_value == wpositive:\n",
        "  thought = \"weakly positive\"\n",
        "  value = wpositive\n",
        "elif max_value == spositive:\n",
        "  thought = \"strongly positive\"\n",
        "  value = spositive\n",
        "elif max_value == negative:\n",
        "  thought = \"negative\"\n",
        "  value = negative\n",
        "elif max_value == wnegative:\n",
        "  thought = \"weakly negative\"\n",
        "  value = wnegative\n",
        "elif max_value == snegative:\n",
        "  thought = \"strongly negative\"\n",
        "  value = snegative\n",
        "else:\n",
        "  thought = \"neutral\"\n",
        "  value = neutral\n",
        "\n",
        "\n",
        "print(\"How people are reacting on \" + topic + \" by analyzing \" + str(count) + \" tweets.\")\n",
        "print()\n",
        "print(\"General Report: \")\n",
        "print(thought + \" with a value of \" + str(value) + \"%.\")\n",
        "\n",
        "positive = percentage(positive, len(data))\n",
        "wpositive = percentage(wpositive, len(data))\n",
        "spositive = percentage(spositive, len(data))\n",
        "negative = percentage(negative, len(data))\n",
        "wnegative = percentage(wnegative, len(data))\n",
        "snegative = percentage(snegative, len(data))\n",
        "neutral = percentage(neutral, len(data))"
      ],
      "metadata": {
        "colab": {
          "base_uri": "https://localhost:8080/"
        },
        "id": "JJ6-v7MZNlIA",
        "outputId": "9a8b0a9f-8559-4d39-a814-d9ca53489e49"
      },
      "execution_count": 299,
      "outputs": [
        {
          "output_type": "stream",
          "name": "stdout",
          "text": [
            "How people are reacting on india by analyzing 10000 tweets.\n",
            "\n",
            "General Report: \n",
            "neutral with a value of 26%.\n"
          ]
        }
      ]
    },
    {
      "cell_type": "code",
      "source": [
        "polarity = total_polarity/count\n",
        "\n",
        "# printing out data\n",
        "print(\"How people are reacting on \" + topic + \" by analyzing \" + str(count) + \" tweets.\")\n",
        "print()\n",
        "print(\"Detailed Report: \")\n",
        "print(str(positive) + \"% people thought it was positive\")\n",
        "print(str(wpositive) + \"% people thought it was weakly positive\")\n",
        "print(str(spositive) + \"% people thought it was strongly positive\")\n",
        "print(str(negative) + \"% people thought it was negative\")\n",
        "print(str(wnegative) + \"% people thought it was weakly negative\")\n",
        "print(str(snegative) + \"% people thought it was strongly negative\")\n",
        "print(str(neutral) + \"% people thought it was neutral\")\n"
      ],
      "metadata": {
        "colab": {
          "base_uri": "https://localhost:8080/"
        },
        "id": "Lw2vH3Fp1jr3",
        "outputId": "f574b81e-3b78-4612-ef89-4d5dc12d1fda"
      },
      "execution_count": 300,
      "outputs": [
        {
          "output_type": "stream",
          "name": "stdout",
          "text": [
            "How people are reacting on india by analyzing 10000 tweets.\n",
            "\n",
            "Detailed Report: \n",
            "12.00% people thought it was positive\n",
            "7.00% people thought it was weakly positive\n",
            "19.00% people thought it was strongly positive\n",
            "19.00% people thought it was negative\n",
            "9.00% people thought it was weakly negative\n",
            "8.00% people thought it was strongly negative\n",
            "26.00% people thought it was neutral\n"
          ]
        }
      ]
    },
    {
      "cell_type": "code",
      "source": [
        "def plotPieChart(positive, wpositive, spositive, negative, wnegative, snegative, neutral, searchTerm, noOfSearchTerms):\n",
        "  labels = ['Positive [' + str(positive) + '%]', 'Weakly Positive [' + str(wpositive) + '%]','Strongly Positive [' + str(spositive) + '%]', 'Neutral [' + str(neutral) + '%]',\n",
        "                  'Negative [' + str(negative) + '%]', 'Weakly Negative [' + str(wnegative) + '%]', 'Strongly Negative [' + str(snegative) + '%]']\n",
        "  sizes = [positive, wpositive, spositive, neutral, negative, wnegative, snegative]\n",
        "  colors = ['yellowgreen','lightgreen','darkgreen', 'gold', 'red','lightsalmon','darkred']\n",
        "  patches, texts = plt.pie(sizes, colors=colors, startangle=90)\n",
        "  plt.legend(patches, labels, loc=\"best\")\n",
        "  plt.title('How people are reacting on ' + topic + ' by analyzing ' + str(count) + ' Tweets.')\n",
        "  plt.axis('equal')\n",
        "  plt.tight_layout()\n",
        "  plt.show()\n",
        "\n",
        "\n",
        "plotPieChart(positive, wpositive, spositive, negative, wnegative, snegative, neutral, topic, count)\n"
      ],
      "metadata": {
        "colab": {
          "base_uri": "https://localhost:8080/",
          "height": 297
        },
        "id": "3R7u1GDo9Hsw",
        "outputId": "8cc92cbf-f5a6-4c28-ae69-fb81ff540cc4"
      },
      "execution_count": 301,
      "outputs": [
        {
          "output_type": "display_data",
          "data": {
            "text/plain": [
              "<Figure size 432x288 with 1 Axes>"
            ],
            "image/png": "[encoded data removed]"
          },
          "metadata": {}
        }
      ]
    }
  ]
}